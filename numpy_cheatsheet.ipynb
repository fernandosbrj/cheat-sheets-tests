{
 "cells": [
  {
   "cell_type": "code",
   "execution_count": 2,
   "id": "dbff4bd6-6d61-4afd-9bdd-fe0656b46bbb",
   "metadata": {},
   "outputs": [],
   "source": [
    "import pandas as pd\n",
    "import numpy as np\n",
    "import matplotlib.pyplot as plt"
   ]
  },
  {
   "cell_type": "code",
   "execution_count": 7,
   "id": "a1fbd824-d6ed-4bdc-aa50-8ce49074d734",
   "metadata": {},
   "outputs": [],
   "source": [
    "lista = [1,2,5,8,1,42,6,8,92]\n",
    "lista2 = [5,4,6,9,45,7,3,47,1]"
   ]
  },
  {
   "cell_type": "code",
   "execution_count": 4,
   "id": "5efdbc91-81a3-4bfe-bb2d-d940805a1688",
   "metadata": {},
   "outputs": [
    {
     "data": {
      "text/plain": [
       "[1, 2, 5, 8, 1, 42, 6, 8, 92]"
      ]
     },
     "execution_count": 4,
     "metadata": {},
     "output_type": "execute_result"
    }
   ],
   "source": [
    "lista"
   ]
  },
  {
   "cell_type": "code",
   "execution_count": 5,
   "id": "9df54f60-8d96-4b32-a1fd-1e2482ec1a76",
   "metadata": {},
   "outputs": [
    {
     "data": {
      "text/plain": [
       "array([ 1,  2,  5,  8,  1, 42,  6,  8, 92])"
      ]
     },
     "execution_count": 5,
     "metadata": {},
     "output_type": "execute_result"
    }
   ],
   "source": [
    "a = np.array(lista)\n",
    "a"
   ]
  },
  {
   "cell_type": "code",
   "execution_count": 9,
   "id": "e261c63f-07e4-422b-973e-a31eccb6bfb3",
   "metadata": {},
   "outputs": [
    {
     "data": {
      "text/plain": [
       "array([[ 1.,  2.,  5.,  8.,  1., 42.,  6.,  8., 92.],\n",
       "       [ 5.,  4.,  6.,  9., 45.,  7.,  3., 47.,  1.]])"
      ]
     },
     "execution_count": 9,
     "metadata": {},
     "output_type": "execute_result"
    }
   ],
   "source": [
    "b = np.array([lista, lista2], dtype = float)\n",
    "b"
   ]
  },
  {
   "cell_type": "code",
   "execution_count": 10,
   "id": "314c1627-ed43-485a-99e8-5f8dab67da7e",
   "metadata": {},
   "outputs": [
    {
     "data": {
      "text/plain": [
       "array([0., 0., 0., 0.])"
      ]
     },
     "execution_count": 10,
     "metadata": {},
     "output_type": "execute_result"
    }
   ],
   "source": [
    "np.zeros(4)"
   ]
  },
  {
   "cell_type": "code",
   "execution_count": 13,
   "id": "267eeffa-1031-4228-82b8-422df87f100f",
   "metadata": {},
   "outputs": [
    {
     "data": {
      "text/plain": [
       "array([1, 1, 1, 1])"
      ]
     },
     "execution_count": 13,
     "metadata": {},
     "output_type": "execute_result"
    }
   ],
   "source": [
    "np.ones(4, dtype = int)"
   ]
  },
  {
   "cell_type": "code",
   "execution_count": 14,
   "id": "5735a9b2-cfba-4323-9762-28ddd263de26",
   "metadata": {},
   "outputs": [
    {
     "data": {
      "text/plain": [
       "array([10, 15, 20, 25])"
      ]
     },
     "execution_count": 14,
     "metadata": {},
     "output_type": "execute_result"
    }
   ],
   "source": [
    "np.arange(10,30,5)"
   ]
  },
  {
   "cell_type": "code",
   "execution_count": 15,
   "id": "6cb06247-ff08-4480-8c8a-5a5afb020874",
   "metadata": {},
   "outputs": [
    {
     "data": {
      "text/plain": [
       "array([ 1,  2,  3,  4,  5,  6,  7,  8,  9, 10, 11, 12, 13, 14, 15, 16, 17,\n",
       "       18, 19])"
      ]
     },
     "execution_count": 15,
     "metadata": {},
     "output_type": "execute_result"
    }
   ],
   "source": [
    "np.arange(1,20)"
   ]
  },
  {
   "cell_type": "code",
   "execution_count": 16,
   "id": "f0fe9e0c-a579-4808-93f5-83afaf15b2d6",
   "metadata": {},
   "outputs": [
    {
     "data": {
      "text/plain": [
       "array([ 1.        ,  1.47368421,  1.94736842,  2.42105263,  2.89473684,\n",
       "        3.36842105,  3.84210526,  4.31578947,  4.78947368,  5.26315789,\n",
       "        5.73684211,  6.21052632,  6.68421053,  7.15789474,  7.63157895,\n",
       "        8.10526316,  8.57894737,  9.05263158,  9.52631579, 10.        ])"
      ]
     },
     "execution_count": 16,
     "metadata": {},
     "output_type": "execute_result"
    }
   ],
   "source": [
    "np.linspace(1,10,20)"
   ]
  },
  {
   "cell_type": "code",
   "execution_count": 17,
   "id": "c32cb241-043b-4d20-888e-7889961e1ed2",
   "metadata": {},
   "outputs": [
    {
     "data": {
      "text/plain": [
       "array([ 1. ,  1.5,  2. ,  2.5,  3. ,  3.5,  4. ,  4.5,  5. ,  5.5,  6. ,\n",
       "        6.5,  7. ,  7.5,  8. ,  8.5,  9. ,  9.5, 10. ])"
      ]
     },
     "execution_count": 17,
     "metadata": {},
     "output_type": "execute_result"
    }
   ],
   "source": [
    "np.linspace(1,10,19)"
   ]
  },
  {
   "cell_type": "code",
   "execution_count": 19,
   "id": "60ea3075-a412-41c7-9585-1afb7fdf1479",
   "metadata": {},
   "outputs": [],
   "source": [
    "aa = np.linspace(1,10,19, dtype = float)"
   ]
  },
  {
   "cell_type": "code",
   "execution_count": 20,
   "id": "72683f20-8d18-46ab-9785-faa17f0bdf91",
   "metadata": {},
   "outputs": [
    {
     "data": {
      "text/plain": [
       "19"
      ]
     },
     "execution_count": 20,
     "metadata": {},
     "output_type": "execute_result"
    }
   ],
   "source": [
    "len(aa)"
   ]
  },
  {
   "cell_type": "code",
   "execution_count": 21,
   "id": "31ec5423-8729-4ca8-b2c7-5be9ec6d370f",
   "metadata": {},
   "outputs": [
    {
     "data": {
      "text/plain": [
       "array([[7, 7],\n",
       "       [7, 7]])"
      ]
     },
     "execution_count": 21,
     "metadata": {},
     "output_type": "execute_result"
    }
   ],
   "source": [
    "np.full((2,2),7)"
   ]
  },
  {
   "cell_type": "code",
   "execution_count": 23,
   "id": "97b3d8a4-9b9c-4fac-a1af-63e9965331da",
   "metadata": {},
   "outputs": [
    {
     "data": {
      "text/plain": [
       "array([[1, 2, 3],\n",
       "       [4, 5, 6],\n",
       "       [7, 8, 9]])"
      ]
     },
     "execution_count": 23,
     "metadata": {},
     "output_type": "execute_result"
    }
   ],
   "source": [
    "np.full((3,3), np.arange(1,10).reshape(3,3))"
   ]
  },
  {
   "cell_type": "code",
   "execution_count": 24,
   "id": "e06d4b88-3c13-4fa4-a305-f2438953565e",
   "metadata": {},
   "outputs": [
    {
     "data": {
      "text/plain": [
       "array([[5, 5, 5],\n",
       "       [5, 5, 5],\n",
       "       [5, 5, 5]])"
      ]
     },
     "execution_count": 24,
     "metadata": {},
     "output_type": "execute_result"
    }
   ],
   "source": [
    "np.full((3,3), 5)"
   ]
  },
  {
   "cell_type": "code",
   "execution_count": 25,
   "id": "847a0ced-fa7d-48f4-8682-0a80b6eaa537",
   "metadata": {},
   "outputs": [
    {
     "data": {
      "text/plain": [
       "array([[1., 0., 0., 0.],\n",
       "       [0., 1., 0., 0.],\n",
       "       [0., 0., 1., 0.],\n",
       "       [0., 0., 0., 1.]])"
      ]
     },
     "execution_count": 25,
     "metadata": {},
     "output_type": "execute_result"
    }
   ],
   "source": [
    "np.eye(4)"
   ]
  },
  {
   "cell_type": "code",
   "execution_count": 27,
   "id": "7445514d-ff1c-4cf2-af34-345735ef1ea4",
   "metadata": {},
   "outputs": [
    {
     "data": {
      "text/plain": [
       "array([[0.78383211, 0.34381484],\n",
       "       [0.85125865, 0.66827185],\n",
       "       [0.12719779, 0.1890741 ],\n",
       "       [0.45655339, 0.52145529]])"
      ]
     },
     "execution_count": 27,
     "metadata": {},
     "output_type": "execute_result"
    }
   ],
   "source": [
    "np.random.random((4,2))"
   ]
  },
  {
   "cell_type": "code",
   "execution_count": 42,
   "id": "949724b6-36b8-4d5f-82ae-7564eeb1d2da",
   "metadata": {},
   "outputs": [],
   "source": [
    "a = np.random.random(10)"
   ]
  },
  {
   "cell_type": "code",
   "execution_count": null,
   "id": "29a228f8-7ea7-41f7-acce-fa7203481c7b",
   "metadata": {},
   "outputs": [],
   "source": [
    "\"\"\"\n",
    "Utility functions\n",
    "    -------------------- ---------------------------------------------------------\n",
    "    random               Uniformly distributed floats over ``[0, 1)``\n",
    "    bytes                Uniformly distributed random bytes.\n",
    "    permutation          Randomly permute a sequence / generate a random sequence.\n",
    "    shuffle              Randomly permute a sequence in place.\n",
    "    choice               Random sample from 1-D array.\n",
    "\n",
    "\"\"\"  "
   ]
  },
  {
   "cell_type": "code",
   "execution_count": 60,
   "id": "80bac540-684a-4064-babe-5bc3e1b483d0",
   "metadata": {},
   "outputs": [
    {
     "data": {
      "text/plain": [
       "[1, 2, 5, 8, 1, 42, 6, 8, 92]"
      ]
     },
     "execution_count": 60,
     "metadata": {},
     "output_type": "execute_result"
    }
   ],
   "source": [
    "lista"
   ]
  },
  {
   "cell_type": "code",
   "execution_count": 59,
   "id": "869a38f0-dc21-432b-bab5-469db7f709c2",
   "metadata": {},
   "outputs": [
    {
     "data": {
      "text/plain": [
       "array([92, 42,  8,  8,  2,  1,  1,  6,  5])"
      ]
     },
     "execution_count": 59,
     "metadata": {},
     "output_type": "execute_result"
    }
   ],
   "source": [
    "np.random.permutation(lista)"
   ]
  },
  {
   "cell_type": "code",
   "execution_count": 47,
   "id": "354aafc9-0155-4c96-9227-dc62807c509e",
   "metadata": {},
   "outputs": [
    {
     "data": {
      "text/plain": [
       "array([4, 8, 5, 3, 2, 9, 6, 0, 7, 1], dtype=int32)"
      ]
     },
     "execution_count": 47,
     "metadata": {},
     "output_type": "execute_result"
    }
   ],
   "source": [
    "np.random.permutation(10)"
   ]
  },
  {
   "cell_type": "code",
   "execution_count": 51,
   "id": "c0cb38b7-1936-48c7-ae3a-6bb7441cfa12",
   "metadata": {},
   "outputs": [
    {
     "data": {
      "text/plain": [
       "[9, 1, 6, 45, 3, 4, 7, 47, 5]"
      ]
     },
     "execution_count": 51,
     "metadata": {},
     "output_type": "execute_result"
    }
   ],
   "source": [
    "lista2"
   ]
  },
  {
   "cell_type": "code",
   "execution_count": 52,
   "id": "f536ffd1-7c61-49e5-bc41-c49ad67c1d09",
   "metadata": {},
   "outputs": [],
   "source": [
    "np.random.shuffle(lista2)"
   ]
  },
  {
   "cell_type": "code",
   "execution_count": 53,
   "id": "940ac99c-ee5b-4e21-8fdf-e2b1890efddd",
   "metadata": {},
   "outputs": [
    {
     "data": {
      "text/plain": [
       "[1, 6, 3, 9, 5, 47, 7, 45, 4]"
      ]
     },
     "execution_count": 53,
     "metadata": {},
     "output_type": "execute_result"
    }
   ],
   "source": [
    "lista2"
   ]
  },
  {
   "cell_type": "code",
   "execution_count": 54,
   "id": "0eb66330-a282-44fd-a037-8c025752132a",
   "metadata": {},
   "outputs": [
    {
     "data": {
      "text/plain": [
       "np.int64(47)"
      ]
     },
     "execution_count": 54,
     "metadata": {},
     "output_type": "execute_result"
    }
   ],
   "source": [
    "np.random.choice(lista2)"
   ]
  },
  {
   "cell_type": "code",
   "execution_count": 61,
   "id": "344d32bd-504a-4871-90ab-60a30d5bd194",
   "metadata": {},
   "outputs": [
    {
     "data": {
      "text/plain": [
       "array([[5, 5],\n",
       "       [5, 5]])"
      ]
     },
     "execution_count": 61,
     "metadata": {},
     "output_type": "execute_result"
    }
   ],
   "source": [
    "np.full((2,2), 5)"
   ]
  },
  {
   "cell_type": "code",
   "execution_count": 62,
   "id": "09c966c8-aff6-4743-ac35-4f83301921a9",
   "metadata": {},
   "outputs": [
    {
     "data": {
      "text/plain": [
       "(10,)"
      ]
     },
     "execution_count": 62,
     "metadata": {},
     "output_type": "execute_result"
    }
   ],
   "source": [
    "a.shape"
   ]
  },
  {
   "cell_type": "code",
   "execution_count": 63,
   "id": "ac8629c2-2663-4645-8dab-2ae6609bed71",
   "metadata": {},
   "outputs": [
    {
     "data": {
      "text/plain": [
       "10"
      ]
     },
     "execution_count": 63,
     "metadata": {},
     "output_type": "execute_result"
    }
   ],
   "source": [
    "len(a)"
   ]
  },
  {
   "cell_type": "code",
   "execution_count": 64,
   "id": "f512eef2-a608-4e6b-a851-a8c80f4e06bb",
   "metadata": {},
   "outputs": [
    {
     "data": {
      "text/plain": [
       "(2, 9)"
      ]
     },
     "execution_count": 64,
     "metadata": {},
     "output_type": "execute_result"
    }
   ],
   "source": [
    "b.shape"
   ]
  },
  {
   "cell_type": "code",
   "execution_count": 65,
   "id": "d407a729-1ca6-416e-aae9-844a71c98130",
   "metadata": {},
   "outputs": [
    {
     "data": {
      "text/plain": [
       "2"
      ]
     },
     "execution_count": 65,
     "metadata": {},
     "output_type": "execute_result"
    }
   ],
   "source": [
    "b.ndim"
   ]
  },
  {
   "cell_type": "code",
   "execution_count": 66,
   "id": "0fd606e2-c146-434f-923f-64d98295aa41",
   "metadata": {},
   "outputs": [
    {
     "data": {
      "text/plain": [
       "18"
      ]
     },
     "execution_count": 66,
     "metadata": {},
     "output_type": "execute_result"
    }
   ],
   "source": [
    "b.size"
   ]
  },
  {
   "cell_type": "code",
   "execution_count": 67,
   "id": "baa73058-e714-4db0-aae2-919867f8c4dc",
   "metadata": {},
   "outputs": [
    {
     "data": {
      "text/plain": [
       "2"
      ]
     },
     "execution_count": 67,
     "metadata": {},
     "output_type": "execute_result"
    }
   ],
   "source": [
    "len(b)"
   ]
  },
  {
   "cell_type": "code",
   "execution_count": 68,
   "id": "6c470089-1962-4e35-9ae7-995e5de80a5b",
   "metadata": {},
   "outputs": [
    {
     "data": {
      "text/plain": [
       "array([[ 1.,  2.,  5.,  8.,  1., 42.,  6.,  8., 92.],\n",
       "       [ 5.,  4.,  6.,  9., 45.,  7.,  3., 47.,  1.]])"
      ]
     },
     "execution_count": 68,
     "metadata": {},
     "output_type": "execute_result"
    }
   ],
   "source": [
    "b"
   ]
  },
  {
   "cell_type": "code",
   "execution_count": 69,
   "id": "08b9758c-fe8b-4c33-97aa-44930ae8d034",
   "metadata": {},
   "outputs": [
    {
     "data": {
      "text/plain": [
       "18"
      ]
     },
     "execution_count": 69,
     "metadata": {},
     "output_type": "execute_result"
    }
   ],
   "source": [
    "b.size"
   ]
  },
  {
   "cell_type": "code",
   "execution_count": 70,
   "id": "60e0d39a-5d9c-40ff-a482-08eea7a72e07",
   "metadata": {},
   "outputs": [
    {
     "data": {
      "text/plain": [
       "dtype('float64')"
      ]
     },
     "execution_count": 70,
     "metadata": {},
     "output_type": "execute_result"
    }
   ],
   "source": [
    "b.dtype"
   ]
  },
  {
   "cell_type": "code",
   "execution_count": 71,
   "id": "d6641375-d2ac-4daf-9ddc-caf721ac2f2a",
   "metadata": {},
   "outputs": [
    {
     "data": {
      "text/plain": [
       "'float64'"
      ]
     },
     "execution_count": 71,
     "metadata": {},
     "output_type": "execute_result"
    }
   ],
   "source": [
    "b.dtype.name"
   ]
  },
  {
   "cell_type": "code",
   "execution_count": 72,
   "id": "a2f922ed-fcce-4da4-9f2f-de5227c75ed8",
   "metadata": {},
   "outputs": [
    {
     "data": {
      "text/plain": [
       "array([[ 1,  2,  5,  8,  1, 42,  6,  8, 92],\n",
       "       [ 5,  4,  6,  9, 45,  7,  3, 47,  1]])"
      ]
     },
     "execution_count": 72,
     "metadata": {},
     "output_type": "execute_result"
    }
   ],
   "source": [
    "b.astype(int)"
   ]
  },
  {
   "cell_type": "code",
   "execution_count": 73,
   "id": "95283b47-8d7b-429f-819d-1bf78bb115ff",
   "metadata": {},
   "outputs": [
    {
     "data": {
      "text/plain": [
       "dtype('float64')"
      ]
     },
     "execution_count": 73,
     "metadata": {},
     "output_type": "execute_result"
    }
   ],
   "source": [
    "b.dtype"
   ]
  },
  {
   "cell_type": "code",
   "execution_count": 74,
   "id": "465c762e-5d7f-455e-baea-1cbf8516c8d5",
   "metadata": {},
   "outputs": [],
   "source": [
    "c = np.random.randint(18, size = (2,9))"
   ]
  },
  {
   "cell_type": "code",
   "execution_count": 75,
   "id": "2d2fb56a-19c8-49a1-a772-d77645f44c54",
   "metadata": {},
   "outputs": [
    {
     "data": {
      "text/plain": [
       "array([[ 2, 16,  4,  3,  5,  6, 12,  3,  6],\n",
       "       [12,  3, 16,  9, 14,  8, 16, 11,  6]], dtype=int32)"
      ]
     },
     "execution_count": 75,
     "metadata": {},
     "output_type": "execute_result"
    }
   ],
   "source": [
    "c"
   ]
  },
  {
   "cell_type": "code",
   "execution_count": 76,
   "id": "9237d210-4806-4138-ada7-9ea8a63f7ae8",
   "metadata": {},
   "outputs": [
    {
     "data": {
      "text/plain": [
       "array([[ 3., 18.,  9., 11.,  6., 48., 18., 11., 98.],\n",
       "       [17.,  7., 22., 18., 59., 15., 19., 58.,  7.]])"
      ]
     },
     "execution_count": 76,
     "metadata": {},
     "output_type": "execute_result"
    }
   ],
   "source": [
    "d = b + c\n",
    "d"
   ]
  },
  {
   "cell_type": "code",
   "execution_count": 77,
   "id": "9ddb2ed6-8cbc-421c-82ee-f8a96d8cf47a",
   "metadata": {},
   "outputs": [
    {
     "data": {
      "text/plain": [
       "array([[ 3, 18,  9, 11,  6, 48, 18, 11, 98],\n",
       "       [17,  7, 22, 18, 59, 15, 19, 58,  7]])"
      ]
     },
     "execution_count": 77,
     "metadata": {},
     "output_type": "execute_result"
    }
   ],
   "source": [
    "d.astype(int)"
   ]
  },
  {
   "cell_type": "code",
   "execution_count": 78,
   "id": "81078468-66cd-470a-a93f-852714d9e4db",
   "metadata": {},
   "outputs": [
    {
     "data": {
      "text/plain": [
       "array([[ 3., 18.,  9., 11.,  6., 48., 18., 11., 98.],\n",
       "       [17.,  7., 22., 18., 59., 15., 19., 58.,  7.]])"
      ]
     },
     "execution_count": 78,
     "metadata": {},
     "output_type": "execute_result"
    }
   ],
   "source": [
    "d"
   ]
  },
  {
   "cell_type": "code",
   "execution_count": 80,
   "id": "37f5bdb0-2f6a-4dd2-bade-7f67a3feb71a",
   "metadata": {},
   "outputs": [],
   "source": [
    "d = d.astype(int)"
   ]
  },
  {
   "cell_type": "code",
   "execution_count": 81,
   "id": "db21b862-13fc-420e-b4ab-db2d34d66ba6",
   "metadata": {},
   "outputs": [
    {
     "data": {
      "text/plain": [
       "array([[ 3, 18,  9, 11,  6, 48, 18, 11, 98],\n",
       "       [17,  7, 22, 18, 59, 15, 19, 58,  7]])"
      ]
     },
     "execution_count": 81,
     "metadata": {},
     "output_type": "execute_result"
    }
   ],
   "source": [
    "d"
   ]
  },
  {
   "cell_type": "code",
   "execution_count": 82,
   "id": "f61ffdde-fb70-47c3-aa9d-de8def73b633",
   "metadata": {},
   "outputs": [
    {
     "data": {
      "text/plain": [
       "array([[ 3., 18.,  9., 11.,  6., 48., 18., 11., 98.],\n",
       "       [17.,  7., 22., 18., 59., 15., 19., 58.,  7.]])"
      ]
     },
     "execution_count": 82,
     "metadata": {},
     "output_type": "execute_result"
    }
   ],
   "source": [
    "np.add(b,c)"
   ]
  },
  {
   "cell_type": "code",
   "execution_count": 83,
   "id": "27652493-a223-4fb9-945b-65db1995cc17",
   "metadata": {},
   "outputs": [
    {
     "data": {
      "text/plain": [
       "array([[ -1., -14.,   1.,   5.,  -4.,  36.,  -6.,   5.,  86.],\n",
       "       [ -7.,   1., -10.,   0.,  31.,  -1., -13.,  36.,  -5.]])"
      ]
     },
     "execution_count": 83,
     "metadata": {},
     "output_type": "execute_result"
    }
   ],
   "source": [
    "np.subtract(b,c)"
   ]
  },
  {
   "cell_type": "code",
   "execution_count": 84,
   "id": "e3ccd427-6e35-41ea-b13f-01998ca33037",
   "metadata": {},
   "outputs": [
    {
     "data": {
      "text/plain": [
       "array([[ 0.5       ,  0.125     ,  1.25      ,  2.66666667,  0.2       ,\n",
       "         7.        ,  0.5       ,  2.66666667, 15.33333333],\n",
       "       [ 0.41666667,  1.33333333,  0.375     ,  1.        ,  3.21428571,\n",
       "         0.875     ,  0.1875    ,  4.27272727,  0.16666667]])"
      ]
     },
     "execution_count": 84,
     "metadata": {},
     "output_type": "execute_result"
    }
   ],
   "source": [
    "np.divide(b,c)"
   ]
  },
  {
   "cell_type": "code",
   "execution_count": 91,
   "id": "905d935e-d131-47ba-8856-36022abdc605",
   "metadata": {},
   "outputs": [
    {
     "data": {
      "text/plain": [
       "array([[1., 2., 1., 2., 1., 0., 6., 2., 2.],\n",
       "       [5., 1., 6., 0., 3., 7., 3., 3., 1.]])"
      ]
     },
     "execution_count": 91,
     "metadata": {},
     "output_type": "execute_result"
    }
   ],
   "source": [
    "np.divmod(b,c)[1]"
   ]
  },
  {
   "cell_type": "code",
   "execution_count": 86,
   "id": "1191b269-541d-40f8-8a02-91f447574181",
   "metadata": {},
   "outputs": [
    {
     "data": {
      "text/plain": [
       "array([[ 1.,  2.,  5.,  8.,  1., 42.,  6.,  8., 92.],\n",
       "       [ 5.,  4.,  6.,  9., 45.,  7.,  3., 47.,  1.]])"
      ]
     },
     "execution_count": 86,
     "metadata": {},
     "output_type": "execute_result"
    }
   ],
   "source": [
    "b"
   ]
  },
  {
   "cell_type": "code",
   "execution_count": 87,
   "id": "e37fe877-5797-49b0-8013-57a3ce8bd124",
   "metadata": {},
   "outputs": [
    {
     "data": {
      "text/plain": [
       "array([[ 2, 16,  4,  3,  5,  6, 12,  3,  6],\n",
       "       [12,  3, 16,  9, 14,  8, 16, 11,  6]], dtype=int32)"
      ]
     },
     "execution_count": 87,
     "metadata": {},
     "output_type": "execute_result"
    }
   ],
   "source": [
    "c"
   ]
  },
  {
   "cell_type": "code",
   "execution_count": 92,
   "id": "6fbd6697-7da7-4522-ae1a-ea50fe0d9e8e",
   "metadata": {},
   "outputs": [
    {
     "data": {
      "text/plain": [
       "array([[  2.,  32.,  20.,  24.,   5., 252.,  72.,  24., 552.],\n",
       "       [ 60.,  12.,  96.,  81., 630.,  56.,  48., 517.,   6.]])"
      ]
     },
     "execution_count": 92,
     "metadata": {},
     "output_type": "execute_result"
    }
   ],
   "source": [
    "np.multiply(b,c)"
   ]
  },
  {
   "cell_type": "code",
   "execution_count": 93,
   "id": "e896ac28-017f-417a-b3e7-a5b3f6134a5d",
   "metadata": {},
   "outputs": [
    {
     "data": {
      "text/plain": [
       "array([[2.71828183e+00, 7.38905610e+00, 1.48413159e+02, 2.98095799e+03,\n",
       "        2.71828183e+00, 1.73927494e+18, 4.03428793e+02, 2.98095799e+03,\n",
       "        9.01762841e+39],\n",
       "       [1.48413159e+02, 5.45981500e+01, 4.03428793e+02, 8.10308393e+03,\n",
       "        3.49342711e+19, 1.09663316e+03, 2.00855369e+01, 2.58131289e+20,\n",
       "        2.71828183e+00]])"
      ]
     },
     "execution_count": 93,
     "metadata": {},
     "output_type": "execute_result"
    }
   ],
   "source": [
    "np.exp(b)"
   ]
  },
  {
   "cell_type": "code",
   "execution_count": 94,
   "id": "8e4fb7e2-b0f6-4f3d-9eed-505f05c6d952",
   "metadata": {},
   "outputs": [
    {
     "data": {
      "text/plain": [
       "np.float64(2.718281828459045)"
      ]
     },
     "execution_count": 94,
     "metadata": {},
     "output_type": "execute_result"
    }
   ],
   "source": [
    "np.exp(1)"
   ]
  },
  {
   "cell_type": "code",
   "execution_count": 96,
   "id": "5243ae88-2e33-40f7-bab6-cc6056b4a9cd",
   "metadata": {},
   "outputs": [
    {
     "data": {
      "text/plain": [
       "array([[1.  , 1.41, 2.24, 2.83, 1.  , 6.48, 2.45, 2.83, 9.59],\n",
       "       [2.24, 2.  , 2.45, 3.  , 6.71, 2.65, 1.73, 6.86, 1.  ]])"
      ]
     },
     "execution_count": 96,
     "metadata": {},
     "output_type": "execute_result"
    }
   ],
   "source": [
    "np.sqrt(b).round(2)"
   ]
  },
  {
   "cell_type": "code",
   "execution_count": 97,
   "id": "ed321eac-5847-4ae9-a938-4ccf20679060",
   "metadata": {},
   "outputs": [
    {
     "data": {
      "text/plain": [
       "np.float64(6.907755278982137)"
      ]
     },
     "execution_count": 97,
     "metadata": {},
     "output_type": "execute_result"
    }
   ],
   "source": [
    "np.log(1000)"
   ]
  },
  {
   "cell_type": "code",
   "execution_count": 98,
   "id": "5077d7b9-ae3e-41da-af19-800cc4a7f640",
   "metadata": {},
   "outputs": [
    {
     "data": {
      "text/plain": [
       "array([[2, 0, 0],\n",
       "       [7, 7, 0],\n",
       "       [2, 6, 3]], dtype=int32)"
      ]
     },
     "execution_count": 98,
     "metadata": {},
     "output_type": "execute_result"
    }
   ],
   "source": [
    "aaa = np.random.randint(9, size = (3,3))\n",
    "aaa"
   ]
  },
  {
   "cell_type": "code",
   "execution_count": 101,
   "id": "a3d5b398-8612-45ba-ba02-a7853e040dec",
   "metadata": {},
   "outputs": [
    {
     "data": {
      "text/plain": [
       "array([[1., 0., 0.],\n",
       "       [0., 1., 0.],\n",
       "       [0., 0., 1.]])"
      ]
     },
     "execution_count": 101,
     "metadata": {},
     "output_type": "execute_result"
    }
   ],
   "source": [
    "ind = np.eye(3)\n",
    "ind"
   ]
  },
  {
   "cell_type": "code",
   "execution_count": 102,
   "id": "da2a7971-b071-47fe-862c-2330db8b423e",
   "metadata": {},
   "outputs": [
    {
     "data": {
      "text/plain": [
       "array([[2., 0., 0.],\n",
       "       [7., 7., 0.],\n",
       "       [2., 6., 3.]])"
      ]
     },
     "execution_count": 102,
     "metadata": {},
     "output_type": "execute_result"
    }
   ],
   "source": [
    "np.dot(aaa, ind)"
   ]
  },
  {
   "cell_type": "code",
   "execution_count": 105,
   "id": "d22832c8-35c9-4db1-9993-ca496ed9104f",
   "metadata": {},
   "outputs": [
    {
     "data": {
      "text/plain": [
       "array([[ 40,  43],\n",
       "       [148, 160]])"
      ]
     },
     "execution_count": 105,
     "metadata": {},
     "output_type": "execute_result"
    }
   ],
   "source": [
    "np.dot(np.arange(6).reshape(2,3), np.arange(10,16).reshape(3,2)) "
   ]
  },
  {
   "cell_type": "code",
   "execution_count": 106,
   "id": "f711433c-5d38-4625-a094-61f83a966b63",
   "metadata": {},
   "outputs": [
    {
     "data": {
      "text/plain": [
       "array([[False, False,  True,  True, False,  True, False,  True,  True],\n",
       "       [False,  True, False, False,  True, False, False,  True, False]])"
      ]
     },
     "execution_count": 106,
     "metadata": {},
     "output_type": "execute_result"
    }
   ],
   "source": [
    "b > c"
   ]
  },
  {
   "cell_type": "code",
   "execution_count": 107,
   "id": "3849d0de-2bde-40aa-bfb4-db2be1615cbd",
   "metadata": {},
   "outputs": [
    {
     "data": {
      "text/plain": [
       "np.float64(292.0)"
      ]
     },
     "execution_count": 107,
     "metadata": {},
     "output_type": "execute_result"
    }
   ],
   "source": [
    "b.sum()"
   ]
  },
  {
   "cell_type": "code",
   "execution_count": 108,
   "id": "d3dd7f5d-5971-4661-9cbe-7a66d7874027",
   "metadata": {},
   "outputs": [
    {
     "data": {
      "text/plain": [
       "array([[ 1.,  2.,  5.,  8.,  1., 42.,  6.,  8., 92.],\n",
       "       [ 5.,  4.,  6.,  9., 45.,  7.,  3., 47.,  1.]])"
      ]
     },
     "execution_count": 108,
     "metadata": {},
     "output_type": "execute_result"
    }
   ],
   "source": [
    "b"
   ]
  },
  {
   "cell_type": "code",
   "execution_count": 109,
   "id": "3ab31be2-5f48-4006-8254-68bcc0ed0cda",
   "metadata": {},
   "outputs": [
    {
     "data": {
      "text/plain": [
       "np.float64(1.0)"
      ]
     },
     "execution_count": 109,
     "metadata": {},
     "output_type": "execute_result"
    }
   ],
   "source": [
    "b.min()"
   ]
  },
  {
   "cell_type": "code",
   "execution_count": 110,
   "id": "9daaebb8-994d-4c50-8973-547433672c6f",
   "metadata": {},
   "outputs": [
    {
     "data": {
      "text/plain": [
       "array([1., 1.])"
      ]
     },
     "execution_count": 110,
     "metadata": {},
     "output_type": "execute_result"
    }
   ],
   "source": [
    "b.min(axis=1)"
   ]
  },
  {
   "cell_type": "code",
   "execution_count": 111,
   "id": "71fc47cf-e413-4e16-b14e-8bc0399572a0",
   "metadata": {},
   "outputs": [
    {
     "data": {
      "text/plain": [
       "array([1., 2., 5., 8., 1., 7., 3., 8., 1.])"
      ]
     },
     "execution_count": 111,
     "metadata": {},
     "output_type": "execute_result"
    }
   ],
   "source": [
    "b.min(axis=0)"
   ]
  },
  {
   "cell_type": "code",
   "execution_count": 112,
   "id": "6501ba33-4134-4250-9ba3-3f9cec011507",
   "metadata": {},
   "outputs": [
    {
     "data": {
      "text/plain": [
       "array([92., 47.])"
      ]
     },
     "execution_count": 112,
     "metadata": {},
     "output_type": "execute_result"
    }
   ],
   "source": [
    "b.max(axis=1)"
   ]
  },
  {
   "cell_type": "code",
   "execution_count": 113,
   "id": "486fe9c8-1b5c-4789-a2ed-1455c1022e41",
   "metadata": {},
   "outputs": [
    {
     "data": {
      "text/plain": [
       "array([ 5.,  4.,  6.,  9., 45., 42.,  6., 47., 92.])"
      ]
     },
     "execution_count": 113,
     "metadata": {},
     "output_type": "execute_result"
    }
   ],
   "source": [
    "b.max(axis=0)"
   ]
  },
  {
   "cell_type": "code",
   "execution_count": 114,
   "id": "019a2e27-fa7f-4a52-8ca8-77e1a32c47b5",
   "metadata": {},
   "outputs": [
    {
     "data": {
      "text/plain": [
       "array([  1.,   3.,   8.,  16.,  17.,  59.,  65.,  73., 165., 170., 174.,\n",
       "       180., 189., 234., 241., 244., 291., 292.])"
      ]
     },
     "execution_count": 114,
     "metadata": {},
     "output_type": "execute_result"
    }
   ],
   "source": [
    "b.cumsum()"
   ]
  },
  {
   "cell_type": "code",
   "execution_count": 115,
   "id": "2c4a8b58-4498-4ac3-9670-77ae67211ed6",
   "metadata": {},
   "outputs": [
    {
     "data": {
      "text/plain": [
       "array([[ 1.,  2.,  5.,  8.,  1., 42.,  6.,  8., 92.],\n",
       "       [ 6.,  6., 11., 17., 46., 49.,  9., 55., 93.]])"
      ]
     },
     "execution_count": 115,
     "metadata": {},
     "output_type": "execute_result"
    }
   ],
   "source": [
    "b.cumsum(axis=0)"
   ]
  },
  {
   "cell_type": "code",
   "execution_count": 116,
   "id": "66102f48-2d91-45cc-ae04-6e65915b4bca",
   "metadata": {},
   "outputs": [
    {
     "data": {
      "text/plain": [
       "array([[  1.,   3.,   8.,  16.,  17.,  59.,  65.,  73., 165.],\n",
       "       [  5.,   9.,  15.,  24.,  69.,  76.,  79., 126., 127.]])"
      ]
     },
     "execution_count": 116,
     "metadata": {},
     "output_type": "execute_result"
    }
   ],
   "source": [
    "b.cumsum(axis=1)"
   ]
  },
  {
   "cell_type": "code",
   "execution_count": 117,
   "id": "b6a40aba-b5a7-4b44-86fc-96d1aeea201d",
   "metadata": {},
   "outputs": [
    {
     "data": {
      "text/plain": [
       "array([ 3. ,  3. ,  5.5,  8.5, 23. , 24.5,  4.5, 27.5, 46.5])"
      ]
     },
     "execution_count": 117,
     "metadata": {},
     "output_type": "execute_result"
    }
   ],
   "source": [
    "b.mean(axis=0)"
   ]
  },
  {
   "cell_type": "code",
   "execution_count": 118,
   "id": "a6f1724b-71ed-43e9-98c9-1095982be8a7",
   "metadata": {},
   "outputs": [
    {
     "data": {
      "text/plain": [
       "array([[ 1.,  2.,  5.,  8.,  1., 42.,  6.,  8., 92.],\n",
       "       [ 5.,  4.,  6.,  9., 45.,  7.,  3., 47.,  1.]])"
      ]
     },
     "execution_count": 118,
     "metadata": {},
     "output_type": "execute_result"
    }
   ],
   "source": [
    "b"
   ]
  },
  {
   "cell_type": "code",
   "execution_count": 119,
   "id": "75bfd9d3-c918-471d-9dab-41052ffd0d9e",
   "metadata": {},
   "outputs": [
    {
     "data": {
      "text/plain": [
       "np.float64(16.22222222222222)"
      ]
     },
     "execution_count": 119,
     "metadata": {},
     "output_type": "execute_result"
    }
   ],
   "source": [
    "b.mean()"
   ]
  },
  {
   "cell_type": "code",
   "execution_count": 120,
   "id": "10577273-3376-4e82-af1a-679b615edad7",
   "metadata": {},
   "outputs": [
    {
     "data": {
      "text/plain": [
       "array([18.33333333, 14.11111111])"
      ]
     },
     "execution_count": 120,
     "metadata": {},
     "output_type": "execute_result"
    }
   ],
   "source": [
    "b.mean(axis=1)"
   ]
  },
  {
   "cell_type": "code",
   "execution_count": 131,
   "id": "4bdfea0e-42a5-4d0e-87c1-414eb24f7a53",
   "metadata": {},
   "outputs": [
    {
     "data": {
      "text/plain": [
       "array([[ 1.,  2.,  5.,  8.,  1., 42.,  6.,  8., 92.],\n",
       "       [ 5.,  4.,  6.,  9., 45.,  7.,  3., 47.,  1.]])"
      ]
     },
     "execution_count": 131,
     "metadata": {},
     "output_type": "execute_result"
    }
   ],
   "source": [
    "b"
   ]
  },
  {
   "cell_type": "code",
   "execution_count": 134,
   "id": "412a901a-e144-4d15-8722-91bddd194cdd",
   "metadata": {},
   "outputs": [],
   "source": [
    "l1 = b[1,]"
   ]
  },
  {
   "cell_type": "code",
   "execution_count": 135,
   "id": "ed961e49-509a-4958-9429-e6992a5da290",
   "metadata": {},
   "outputs": [],
   "source": [
    "l2 = b[0,]"
   ]
  },
  {
   "cell_type": "code",
   "execution_count": 136,
   "id": "48fe1c67-e29b-437b-b43c-3a25c30d53b0",
   "metadata": {},
   "outputs": [
    {
     "data": {
      "text/plain": [
       "array([[ 1.        , -0.31303038],\n",
       "       [-0.31303038,  1.        ]])"
      ]
     },
     "execution_count": 136,
     "metadata": {},
     "output_type": "execute_result"
    }
   ],
   "source": [
    "np.corrcoef(l1,l2)"
   ]
  },
  {
   "cell_type": "code",
   "execution_count": 121,
   "id": "03562d7b-2535-4253-96d0-c16f01e311e3",
   "metadata": {},
   "outputs": [
    {
     "data": {
      "text/plain": [
       "array([[ 1.        , -0.31303038],\n",
       "       [-0.31303038,  1.        ]])"
      ]
     },
     "execution_count": 121,
     "metadata": {},
     "output_type": "execute_result"
    }
   ],
   "source": [
    "np.corrcoef(b)"
   ]
  },
  {
   "cell_type": "code",
   "execution_count": 127,
   "id": "1de28207-b932-4000-bdee-afcd51bd879a",
   "metadata": {},
   "outputs": [
    {
     "data": {
      "text/plain": [
       "array([[nan, nan, nan, nan, nan, nan, nan, nan, nan, nan],\n",
       "       [nan, nan, nan, nan, nan, nan, nan, nan, nan, nan],\n",
       "       [nan, nan, nan, nan, nan, nan, nan, nan, nan, nan],\n",
       "       [nan, nan, nan, nan, nan, nan, nan, nan, nan, nan],\n",
       "       [nan, nan, nan, nan, nan, nan, nan, nan, nan, nan],\n",
       "       [nan, nan, nan, nan, nan, nan, nan, nan, nan, nan],\n",
       "       [nan, nan, nan, nan, nan, nan, nan, nan, nan, nan],\n",
       "       [nan, nan, nan, nan, nan, nan, nan, nan, nan, nan],\n",
       "       [nan, nan, nan, nan, nan, nan, nan, nan, nan, nan],\n",
       "       [nan, nan, nan, nan, nan, nan, nan, nan, nan, nan]])"
      ]
     },
     "execution_count": 127,
     "metadata": {},
     "output_type": "execute_result"
    }
   ],
   "source": [
    "np.corrcoef(np.full((10,2),5))"
   ]
  },
  {
   "cell_type": "code",
   "execution_count": 138,
   "id": "b2c79b6f-9caa-49a5-a42f-544aef697711",
   "metadata": {},
   "outputs": [
    {
     "data": {
      "text/plain": [
       "array([5, 6, 7, 8, 9])"
      ]
     },
     "execution_count": 138,
     "metadata": {},
     "output_type": "execute_result"
    }
   ],
   "source": [
    "e = np.arange(5,10)\n",
    "e"
   ]
  },
  {
   "cell_type": "code",
   "execution_count": 139,
   "id": "1ef6083c-ad1a-493a-87e2-df329e39f0de",
   "metadata": {},
   "outputs": [
    {
     "data": {
      "text/plain": [
       "array([5, 6, 7, 8, 9])"
      ]
     },
     "execution_count": 139,
     "metadata": {},
     "output_type": "execute_result"
    }
   ],
   "source": [
    "f = e.view()\n",
    "f"
   ]
  },
  {
   "cell_type": "code",
   "execution_count": 140,
   "id": "c1017402-5195-430e-9b85-824dd288d47a",
   "metadata": {},
   "outputs": [
    {
     "data": {
      "text/plain": [
       "array([ 5,  6, 10,  8,  9])"
      ]
     },
     "execution_count": 140,
     "metadata": {},
     "output_type": "execute_result"
    }
   ],
   "source": [
    "e[2] = 10\n",
    "e"
   ]
  },
  {
   "cell_type": "code",
   "execution_count": 141,
   "id": "6960f03a-7877-47e5-a279-365d2236e3a1",
   "metadata": {},
   "outputs": [
    {
     "data": {
      "text/plain": [
       "array([ 5,  6, 10,  8,  9])"
      ]
     },
     "execution_count": 141,
     "metadata": {},
     "output_type": "execute_result"
    }
   ],
   "source": [
    "f"
   ]
  },
  {
   "cell_type": "code",
   "execution_count": 142,
   "id": "1bec4ef2-2ed4-4e05-b5e9-7aa7c5a4bb9c",
   "metadata": {},
   "outputs": [
    {
     "data": {
      "text/plain": [
       "array([ 5,  6, 10,  8,  9])"
      ]
     },
     "execution_count": 142,
     "metadata": {},
     "output_type": "execute_result"
    }
   ],
   "source": [
    "g = e.copy()\n",
    "g"
   ]
  },
  {
   "cell_type": "code",
   "execution_count": 143,
   "id": "1bb91657-d25e-4729-b625-881259532376",
   "metadata": {},
   "outputs": [
    {
     "data": {
      "text/plain": [
       "array([14,  6, 10,  8,  9])"
      ]
     },
     "execution_count": 143,
     "metadata": {},
     "output_type": "execute_result"
    }
   ],
   "source": [
    "e[0] = 14\n",
    "e"
   ]
  },
  {
   "cell_type": "code",
   "execution_count": 144,
   "id": "9d2cbe10-26ae-4a96-b2fc-be06104384d8",
   "metadata": {},
   "outputs": [
    {
     "data": {
      "text/plain": [
       "array([14,  6, 10,  8,  9])"
      ]
     },
     "execution_count": 144,
     "metadata": {},
     "output_type": "execute_result"
    }
   ],
   "source": [
    "f"
   ]
  },
  {
   "cell_type": "code",
   "execution_count": 145,
   "id": "6d5d03fd-6f84-47a3-8b81-475078cd769f",
   "metadata": {},
   "outputs": [
    {
     "data": {
      "text/plain": [
       "array([ 5,  6, 10,  8,  9])"
      ]
     },
     "execution_count": 145,
     "metadata": {},
     "output_type": "execute_result"
    }
   ],
   "source": [
    "g"
   ]
  },
  {
   "cell_type": "code",
   "execution_count": 146,
   "id": "90325508-777d-46c0-aa3e-7c64a4a7bf91",
   "metadata": {},
   "outputs": [
    {
     "data": {
      "text/plain": [
       "array([[ 1.,  2.,  5.,  8.,  1., 42.,  6.,  8., 92.],\n",
       "       [ 5.,  4.,  6.,  9., 45.,  7.,  3., 47.,  1.]])"
      ]
     },
     "execution_count": 146,
     "metadata": {},
     "output_type": "execute_result"
    }
   ],
   "source": [
    "b"
   ]
  },
  {
   "cell_type": "code",
   "execution_count": 147,
   "id": "75e85356-8137-4d3b-8d18-6f7fd9e52208",
   "metadata": {},
   "outputs": [],
   "source": [
    "b.sort()"
   ]
  },
  {
   "cell_type": "code",
   "execution_count": 148,
   "id": "7e030947-026a-4021-a17f-c637853829cf",
   "metadata": {},
   "outputs": [
    {
     "data": {
      "text/plain": [
       "array([[ 1.,  1.,  2.,  5.,  6.,  8.,  8., 42., 92.],\n",
       "       [ 1.,  3.,  4.,  5.,  6.,  7.,  9., 45., 47.]])"
      ]
     },
     "execution_count": 148,
     "metadata": {},
     "output_type": "execute_result"
    }
   ],
   "source": [
    "b"
   ]
  },
  {
   "cell_type": "code",
   "execution_count": 149,
   "id": "acf98044-9443-435e-b462-a1e7ad33005a",
   "metadata": {},
   "outputs": [],
   "source": [
    "b.sort(axis=0)"
   ]
  },
  {
   "cell_type": "code",
   "execution_count": 150,
   "id": "b0ceccc2-c715-4451-9f5a-c8de9f4886f0",
   "metadata": {},
   "outputs": [
    {
     "data": {
      "text/plain": [
       "array([[ 1.,  1.,  2.,  5.,  6.,  7.,  8., 42., 47.],\n",
       "       [ 1.,  3.,  4.,  5.,  6.,  8.,  9., 45., 92.]])"
      ]
     },
     "execution_count": 150,
     "metadata": {},
     "output_type": "execute_result"
    }
   ],
   "source": [
    "b"
   ]
  },
  {
   "cell_type": "code",
   "execution_count": 151,
   "id": "fc4c4bb7-49db-4b81-88d7-e021fd4ea862",
   "metadata": {},
   "outputs": [
    {
     "data": {
      "text/plain": [
       "array([[ 2, 16,  4,  3,  5,  6, 12,  3,  6],\n",
       "       [12,  3, 16,  9, 14,  8, 16, 11,  6]], dtype=int32)"
      ]
     },
     "execution_count": 151,
     "metadata": {},
     "output_type": "execute_result"
    }
   ],
   "source": [
    "c"
   ]
  },
  {
   "cell_type": "code",
   "execution_count": 152,
   "id": "795e58bc-0c1a-4279-b917-0cb06da62580",
   "metadata": {},
   "outputs": [
    {
     "data": {
      "text/plain": [
       "array([[ 2, 16,  4,  3,  5,  6, 12,  3,  6],\n",
       "       [12,  3, 16,  9, 14,  8, 16, 11,  6]], dtype=int32)"
      ]
     },
     "execution_count": 152,
     "metadata": {},
     "output_type": "execute_result"
    }
   ],
   "source": [
    "c2 = c.copy()\n",
    "c2"
   ]
  },
  {
   "cell_type": "code",
   "execution_count": 153,
   "id": "72b198b1-402f-4b6a-a57f-fed4420046ec",
   "metadata": {},
   "outputs": [
    {
     "data": {
      "text/plain": [
       "array([[ 2,  3,  3,  4,  5,  6,  6, 12, 16],\n",
       "       [ 3,  6,  8,  9, 11, 12, 14, 16, 16]], dtype=int32)"
      ]
     },
     "execution_count": 153,
     "metadata": {},
     "output_type": "execute_result"
    }
   ],
   "source": [
    "c.sort()\n",
    "c"
   ]
  },
  {
   "cell_type": "code",
   "execution_count": 154,
   "id": "bcd6ee74-b77b-4dc2-b7ee-33bfde2dab68",
   "metadata": {},
   "outputs": [
    {
     "data": {
      "text/plain": [
       "array([[ 2,  3,  3,  4,  5,  6,  6, 12, 16],\n",
       "       [ 3,  6,  8,  9, 11, 12, 14, 16, 16]], dtype=int32)"
      ]
     },
     "execution_count": 154,
     "metadata": {},
     "output_type": "execute_result"
    }
   ],
   "source": [
    "c"
   ]
  },
  {
   "cell_type": "code",
   "execution_count": 155,
   "id": "7d14996a-993b-4d4a-981a-dd05f1023698",
   "metadata": {},
   "outputs": [
    {
     "data": {
      "text/plain": [
       "array([[ 2, 16,  4,  3,  5,  6, 12,  3,  6],\n",
       "       [12,  3, 16,  9, 14,  8, 16, 11,  6]], dtype=int32)"
      ]
     },
     "execution_count": 155,
     "metadata": {},
     "output_type": "execute_result"
    }
   ],
   "source": [
    "c2"
   ]
  },
  {
   "cell_type": "code",
   "execution_count": 156,
   "id": "66cfeb27-9d03-42c1-a5d0-ca438a0d13bc",
   "metadata": {},
   "outputs": [
    {
     "data": {
      "text/plain": [
       "array([[ 2,  3,  4,  3,  5,  6, 12,  3,  6],\n",
       "       [12, 16, 16,  9, 14,  8, 16, 11,  6]], dtype=int32)"
      ]
     },
     "execution_count": 156,
     "metadata": {},
     "output_type": "execute_result"
    }
   ],
   "source": [
    "c2.sort(axis=0)\n",
    "c2"
   ]
  },
  {
   "cell_type": "code",
   "execution_count": 157,
   "id": "85939b37-d9bf-453a-8fd4-4d263d1f9072",
   "metadata": {},
   "outputs": [
    {
     "data": {
      "text/plain": [
       "array([[ 1.,  1.,  2.,  5.,  6.,  7.,  8., 42., 47.],\n",
       "       [ 1.,  3.,  4.,  5.,  6.,  8.,  9., 45., 92.]])"
      ]
     },
     "execution_count": 157,
     "metadata": {},
     "output_type": "execute_result"
    }
   ],
   "source": [
    "b"
   ]
  },
  {
   "cell_type": "code",
   "execution_count": 158,
   "id": "048fa1ba-a63c-4422-8f04-d3bb817730cb",
   "metadata": {},
   "outputs": [
    {
     "data": {
      "text/plain": [
       "array([ 1.,  3.,  4.,  5.,  6.,  8.,  9., 45., 92.])"
      ]
     },
     "execution_count": 158,
     "metadata": {},
     "output_type": "execute_result"
    }
   ],
   "source": [
    "b[1]"
   ]
  },
  {
   "cell_type": "code",
   "execution_count": 159,
   "id": "3631f4ab-cc4c-4a79-9e38-260ae510ddb2",
   "metadata": {},
   "outputs": [
    {
     "data": {
      "text/plain": [
       "np.float64(3.0)"
      ]
     },
     "execution_count": 159,
     "metadata": {},
     "output_type": "execute_result"
    }
   ],
   "source": [
    "b[1,1]"
   ]
  },
  {
   "cell_type": "code",
   "execution_count": 160,
   "id": "2f1328ee-3d18-488a-bc9c-fbf803551fe1",
   "metadata": {},
   "outputs": [
    {
     "data": {
      "text/plain": [
       "array([1., 1., 2.])"
      ]
     },
     "execution_count": 160,
     "metadata": {},
     "output_type": "execute_result"
    }
   ],
   "source": [
    "b[0, :3]"
   ]
  },
  {
   "cell_type": "code",
   "execution_count": 161,
   "id": "4f32e114-d8ac-4196-ac68-16283894c856",
   "metadata": {},
   "outputs": [
    {
     "data": {
      "text/plain": [
       "array([[ True,  True,  True, False, False, False, False, False, False],\n",
       "       [ True,  True,  True, False, False, False, False, False, False]])"
      ]
     },
     "execution_count": 161,
     "metadata": {},
     "output_type": "execute_result"
    }
   ],
   "source": [
    "b<5"
   ]
  },
  {
   "cell_type": "code",
   "execution_count": 162,
   "id": "82c0a481-f432-41d5-acc3-70a0ef23c6bd",
   "metadata": {},
   "outputs": [
    {
     "data": {
      "text/plain": [
       "array([1., 1., 2., 1., 3., 4.])"
      ]
     },
     "execution_count": 162,
     "metadata": {},
     "output_type": "execute_result"
    }
   ],
   "source": [
    "b[b<5]"
   ]
  },
  {
   "cell_type": "code",
   "execution_count": 163,
   "id": "4e480204-c12a-4d8f-94c5-f62f5ee1146d",
   "metadata": {},
   "outputs": [
    {
     "data": {
      "text/plain": [
       "array([[ 1.,  1.,  2.,  5.,  6.,  7.,  8., 42., 47.]])"
      ]
     },
     "execution_count": 163,
     "metadata": {},
     "output_type": "execute_result"
    }
   ],
   "source": [
    "b[:-1]"
   ]
  },
  {
   "cell_type": "code",
   "execution_count": 164,
   "id": "536a4686-9df1-4598-aed8-9338903f03c4",
   "metadata": {},
   "outputs": [
    {
     "data": {
      "text/plain": [
       "array([[ 1.,  3.,  4.,  5.,  6.,  8.,  9., 45., 92.],\n",
       "       [ 1.,  1.,  2.,  5.,  6.,  7.,  8., 42., 47.]])"
      ]
     },
     "execution_count": 164,
     "metadata": {},
     "output_type": "execute_result"
    }
   ],
   "source": [
    "b[::-1]"
   ]
  },
  {
   "cell_type": "code",
   "execution_count": 165,
   "id": "72b9f708-e4f8-4131-ba2f-9e750b5cf150",
   "metadata": {},
   "outputs": [
    {
     "data": {
      "text/plain": [
       "array([ 5., 47.,  1., 92.])"
      ]
     },
     "execution_count": 165,
     "metadata": {},
     "output_type": "execute_result"
    }
   ],
   "source": [
    "b[[0,0,1,1],[3,-1,0,-1]]"
   ]
  },
  {
   "cell_type": "code",
   "execution_count": 166,
   "id": "e9e0c553-7c7f-492a-ac4b-d5ea2a380af5",
   "metadata": {},
   "outputs": [
    {
     "data": {
      "text/plain": [
       "array([[ 1.,  1.],\n",
       "       [ 1.,  3.],\n",
       "       [ 2.,  4.],\n",
       "       [ 5.,  5.],\n",
       "       [ 6.,  6.],\n",
       "       [ 7.,  8.],\n",
       "       [ 8.,  9.],\n",
       "       [42., 45.],\n",
       "       [47., 92.]])"
      ]
     },
     "execution_count": 166,
     "metadata": {},
     "output_type": "execute_result"
    }
   ],
   "source": [
    "b.T"
   ]
  },
  {
   "cell_type": "code",
   "execution_count": 167,
   "id": "bdd46f1b-d3e2-4831-92a4-d49cb2e7c4f1",
   "metadata": {},
   "outputs": [
    {
     "data": {
      "text/plain": [
       "array([[ 1.,  1.],\n",
       "       [ 1.,  3.],\n",
       "       [ 2.,  4.],\n",
       "       [ 5.,  5.],\n",
       "       [ 6.,  6.],\n",
       "       [ 7.,  8.],\n",
       "       [ 8.,  9.],\n",
       "       [42., 45.],\n",
       "       [47., 92.]])"
      ]
     },
     "execution_count": 167,
     "metadata": {},
     "output_type": "execute_result"
    }
   ],
   "source": [
    "b.transpose()"
   ]
  },
  {
   "cell_type": "code",
   "execution_count": 171,
   "id": "b51eda08-28d6-4b1f-91db-ad81c8ac40b1",
   "metadata": {},
   "outputs": [
    {
     "data": {
      "text/plain": [
       "array([[ 1.,  1.,  2.,  5.,  6.,  7.],\n",
       "       [ 8., 42., 47.,  1.,  3.,  4.],\n",
       "       [ 5.,  6.,  8.,  9., 45., 92.]])"
      ]
     },
     "execution_count": 171,
     "metadata": {},
     "output_type": "execute_result"
    }
   ],
   "source": [
    "b.reshape(3,6)"
   ]
  },
  {
   "cell_type": "code",
   "execution_count": 169,
   "id": "185461ba-3f24-4888-aba6-4ee1b865b6ca",
   "metadata": {},
   "outputs": [
    {
     "data": {
      "text/plain": [
       "array([[ 1.,  1.,  2.,  5.,  6.,  7.,  8., 42., 47.],\n",
       "       [ 1.,  3.,  4.,  5.,  6.,  8.,  9., 45., 92.]])"
      ]
     },
     "execution_count": 169,
     "metadata": {},
     "output_type": "execute_result"
    }
   ],
   "source": [
    "b"
   ]
  },
  {
   "cell_type": "code",
   "execution_count": 173,
   "id": "277822c5-7b46-4016-856d-206d577ba324",
   "metadata": {},
   "outputs": [
    {
     "data": {
      "text/plain": [
       "array([[ 1.,  3.,  5.,  6.,  8., 45.],\n",
       "       [ 1.,  2.,  5.,  7.,  9., 47.],\n",
       "       [ 1.,  4.,  6.,  8., 42., 92.]])"
      ]
     },
     "execution_count": 173,
     "metadata": {},
     "output_type": "execute_result"
    }
   ],
   "source": [
    "b.reshape(3,6, order=\"F\")"
   ]
  },
  {
   "cell_type": "code",
   "execution_count": 175,
   "id": "62df6a7e-4549-45bb-8ca3-8b78f81ace8c",
   "metadata": {},
   "outputs": [
    {
     "data": {
      "text/plain": [
       "array([ 1.,  1.,  2.,  5.,  6.,  7.,  8., 42., 47.,  1.,  3.,  4.,  5.,\n",
       "        6.,  8.,  9., 45., 92.])"
      ]
     },
     "execution_count": 175,
     "metadata": {},
     "output_type": "execute_result"
    }
   ],
   "source": [
    "b.ravel()"
   ]
  },
  {
   "cell_type": "code",
   "execution_count": 176,
   "id": "285c93fb-1125-4320-b095-916a74c23547",
   "metadata": {},
   "outputs": [
    {
     "data": {
      "text/plain": [
       "array([[ 1.,  1.,  2.,  5.,  6.,  7.,  8., 42., 47.],\n",
       "       [ 1.,  3.,  4.,  5.,  6.,  8.,  9., 45., 92.]])"
      ]
     },
     "execution_count": 176,
     "metadata": {},
     "output_type": "execute_result"
    }
   ],
   "source": [
    "b"
   ]
  },
  {
   "cell_type": "code",
   "execution_count": 177,
   "id": "b33a0a26-9aae-4a0b-b456-73009515e1a6",
   "metadata": {},
   "outputs": [],
   "source": [
    "# inplace. reshape não é inplace\n",
    "b.resize(3,6)"
   ]
  },
  {
   "cell_type": "code",
   "execution_count": 178,
   "id": "8e065779-a6c1-48e1-9d32-422c0bfce1a1",
   "metadata": {},
   "outputs": [
    {
     "data": {
      "text/plain": [
       "array([[ 1.,  1.,  2.,  5.,  6.,  7.],\n",
       "       [ 8., 42., 47.,  1.,  3.,  4.],\n",
       "       [ 5.,  6.,  8.,  9., 45., 92.]])"
      ]
     },
     "execution_count": 178,
     "metadata": {},
     "output_type": "execute_result"
    }
   ],
   "source": [
    "b"
   ]
  },
  {
   "cell_type": "code",
   "execution_count": 179,
   "id": "6767cc43-0c42-4e74-b776-ac2805ac0efa",
   "metadata": {},
   "outputs": [
    {
     "data": {
      "text/plain": [
       "array([ 1.,  1.,  2.,  5.,  6.,  7.,  8., 42., 47.,  1.,  3.,  4.,  5.,\n",
       "        6.,  8.,  9., 45., 92.])"
      ]
     },
     "execution_count": 179,
     "metadata": {},
     "output_type": "execute_result"
    }
   ],
   "source": [
    "b.ravel()"
   ]
  },
  {
   "cell_type": "code",
   "execution_count": null,
   "id": "5f6f57a1-4d0e-4397-8ca8-f110d8fb7da7",
   "metadata": {},
   "outputs": [],
   "source": []
  }
 ],
 "metadata": {
  "kernelspec": {
   "display_name": "Python 3 (ipykernel)",
   "language": "python",
   "name": "python3"
  },
  "language_info": {
   "codemirror_mode": {
    "name": "ipython",
    "version": 3
   },
   "file_extension": ".py",
   "mimetype": "text/x-python",
   "name": "python",
   "nbconvert_exporter": "python",
   "pygments_lexer": "ipython3",
   "version": "3.13.1"
  }
 },
 "nbformat": 4,
 "nbformat_minor": 5
}
